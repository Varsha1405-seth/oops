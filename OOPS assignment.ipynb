{
 "cells": [
  {
   "cell_type": "code",
   "execution_count": null,
   "id": "a229b772-2871-4f0c-a591-af881cd1aa06",
   "metadata": {},
   "outputs": [],
   "source": [
    "#1. What are the five key concepts of Object-Oriented Programming (OOP)?\n",
    "#Ans. \n",
    "#The five key concepts of Object-Oriented Programming (OOP) are:\n",
    "\n",
    "# a. Encapsulation\n",
    "# b. Inheritance\n",
    "# C. Polymorphism\n",
    "# d. Abstraction\n",
    "# e. Classes and Objects\n",
    "\n",
    "\n"
   ]
  },
  {
   "cell_type": "code",
   "execution_count": 1,
   "id": "a3cf74e6-ac33-4100-a6d7-e3d1197586ba",
   "metadata": {},
   "outputs": [],
   "source": [
    "#2. Write a Python class for a `Car` with attributes for `make`, `model`, and `year`. Include a method to display the car's information.\n",
    "#Code:\n",
    "class Car:\n",
    "    def __init__(self, make, model, year):\n",
    "        self.make = make\n",
    "        self.model = model\n",
    "        self.year = year\n",
    "\n",
    "    def display_info(self):\n",
    "        print(f\"Car Information: {self.year} {self.make} {self.model}\")"
   ]
  },
  {
   "cell_type": "code",
   "execution_count": 3,
   "id": "43603054-6b3b-41b6-8fdd-01e69a4a0c88",
   "metadata": {},
   "outputs": [
    {
     "name": "stdout",
     "output_type": "stream",
     "text": [
      "Car Information: 2020 Toyota Corolla\n"
     ]
    }
   ],
   "source": [
    "car1 = Car(\"Toyota\", \"Corolla\", 2020)\n",
    "car1.display_info()"
   ]
  },
  {
   "cell_type": "code",
   "execution_count": null,
   "id": "9d859f21-bffc-4737-953c-2a0eae58a04a",
   "metadata": {},
   "outputs": [],
   "source": [
    "#3. Explain the difference between instance methods and class methods. Provide an example of each.\n",
    "#Instance methods are functions that are associated with instances of a class and can access and modify instance attributes. \n",
    "#They are called on an instance of a class and implicitly pass the instance as the first argument (usually named self).\n",
    "#On the other hand, class methods are functions that are associated with the class itself rather than instances.\n",
    "#They can access and modify class-level attributes but not instance-specific data. \n",
    "#Class methods are decorated with @classmethod and receive the class itself as the first argument (usually named cls).\n",
    "#Example:\n",
    "\n",
    "# Instance Method\n",
    "class MyClass:\n",
    "    def __init__(self, x):\n",
    "        self.x = x\n",
    "\n",
    "    def instance_method(self):\n",
    "        return self.x\n",
    "\n",
    "obj = MyClass(5)\n",
    "print(obj.instance_method())\n",
    "\n",
    "# Class Method\n",
    "class MyClass:\n",
    "    class_variable = 0\n",
    "\n",
    "    @classmethod\n",
    "    def class_method(cls):\n",
    "        cls.class_variable += 1\n",
    "        return cls.class_variable\n",
    "\n",
    "print(MyClass.class_method())\n",
    "\n",
    "\n",
    "\n"
   ]
  },
  {
   "cell_type": "code",
   "execution_count": 5,
   "id": "5a55cfbb-7868-49f2-9da6-d50c73c4f490",
   "metadata": {},
   "outputs": [
    {
     "name": "stdout",
     "output_type": "stream",
     "text": [
      "5\n",
      "8\n"
     ]
    }
   ],
   "source": [
    "#4. How does Python implement method overloading? Give an example.\n",
    "# Python does not support method overloading in the same way as languages like Java or C++\n",
    "# In Python, the method with the highest number of parameters is the one that gets called\n",
    "# You can achieve similar behavior using default parameter values or variable arguments\n",
    "\n",
    "class MyClass:\n",
    "    def my_method(self, x=None, y=None):\n",
    "        if x is not None and y is not None:\n",
    "            return x + y\n",
    "        elif x is not None:\n",
    "            return x\n",
    "        else:\n",
    "            return 0\n",
    "\n",
    "obj = MyClass()\n",
    "print(obj.my_method(5))\n",
    "print(obj.my_method(5, 3))"
   ]
  },
  {
   "cell_type": "code",
   "execution_count": 7,
   "id": "0d34f83e-42f4-4bd1-b489-ac24c694021c",
   "metadata": {},
   "outputs": [],
   "source": [
    "#5. What are the three types of access modifiers in Python? How are they denoted?\n",
    "# The three types of access modifiers in Python are:\n",
    "# 1. Public: No symbol is used. Any member can be accessed from outside the class.\n",
    "# 2. Protected: Denoted by a single underscore (_) before the member name. It indicates that the member should not be accessed from outside the class, but it can be accessed in subclasses.\n",
    "# 3. Private: Denoted by a double underscore (__) before the member name. It restricts the access to the member from outside the class. It can be accessed within the class itself.\n",
    "\n",
    "class MyClass:\n",
    "    def __init__(self):\n",
    "        self.public_member = \"I am public\"\n",
    "        self._protected_member = \"I am protected\"\n",
    "        self.__private_member = \"I am private\""
   ]
  },
  {
   "cell_type": "code",
   "execution_count": 9,
   "id": "405810a4-1068-4045-83d1-aaf31591f923",
   "metadata": {},
   "outputs": [
    {
     "name": "stdout",
     "output_type": "stream",
     "text": [
      "Method from class A\n",
      "Method from class B\n"
     ]
    }
   ],
   "source": [
    "#6. Describe the five types of inheritance in Python. Provide a simple example of multiple inheritance.\n",
    "# In Python, the five types of inheritance are:\n",
    "# 1. Single inheritance\n",
    "# 2. Multiple inheritance\n",
    "# 3. Multilevel inheritance\n",
    "# 4. Hierarchical inheritance\n",
    "# 5. Hybrid inheritance\n",
    "\n",
    "# Example of multiple inheritance\n",
    "class A:\n",
    "    def method_A(self):\n",
    "        print(\"Method from class A\")\n",
    "\n",
    "class B:\n",
    "    def method_B(self):\n",
    "        print(\"Method from class B\")\n",
    "\n",
    "class C(A, B):\n",
    "    def method_C(self):\n",
    "        print(\"Method from class C\")\n",
    "\n",
    "obj = C()\n",
    "obj.method_A()\n",
    "obj.method_B()"
   ]
  },
  {
   "cell_type": "code",
   "execution_count": 11,
   "id": "206255dd-2228-43c8-a6e1-ebd6ae33afc3",
   "metadata": {},
   "outputs": [
    {
     "name": "stdout",
     "output_type": "stream",
     "text": [
      "(<class '__main__.D'>, <class '__main__.B'>, <class '__main__.C'>, <class '__main__.A'>, <class 'object'>)\n",
      "[<class '__main__.D'>, <class '__main__.B'>, <class '__main__.C'>, <class '__main__.A'>, <class 'object'>]\n"
     ]
    }
   ],
   "source": [
    "#7. What is the Method Resolution Order (MRO) in Python? How can you retrieve it programmatically?\n",
    "# The Method Resolution Order (MRO) in Python is the order in which methods are resolved in multiple inheritance.\n",
    "# You can retrieve the MRO programmatically using the __mro__ attribute or the mro() method.\n",
    "\n",
    "class A:\n",
    "    pass\n",
    "\n",
    "class B(A):\n",
    "    pass\n",
    "\n",
    "class C(A):\n",
    "    pass\n",
    "\n",
    "class D(B, C):\n",
    "    pass\n",
    "\n",
    "print(D.__mro__)\n",
    "# or\n",
    "print(D.mro())"
   ]
  },
  {
   "cell_type": "code",
   "execution_count": 13,
   "id": "0f3a177b-bf3d-4a73-ac42-0e541aa77a24",
   "metadata": {},
   "outputs": [],
   "source": [
    "#8. Create an abstract base class `Shape` with an abstract method `area()`. Then create two subclasses `Circle` and `Rectangle` that implement the `area()` method.\n",
    "\n",
    "#Code:\n",
    "from abc import ABC, abstractmethod\n",
    "import math\n",
    "\n",
    "class Shape(ABC):\n",
    "    @abstractmethod\n",
    "    def area(self):\n",
    "        pass\n",
    "\n",
    "class Circle(Shape):\n",
    "    def __init__(self, radius):\n",
    "        self.radius = radius\n",
    "\n",
    "    def area(self):\n",
    "        return math.pi * self.radius ** 2\n",
    "\n",
    "class Rectangle(Shape):\n",
    "    def __init__(self, width, height):\n",
    "        self.width = width\n",
    "        self.height = height\n",
    "\n",
    "    def area(self):\n",
    "        return self.width * self.height\n"
   ]
  },
  {
   "cell_type": "code",
   "execution_count": 17,
   "id": "e5a78e9e-6ec5-43a9-9105-a9b24b289f81",
   "metadata": {},
   "outputs": [
    {
     "name": "stdout",
     "output_type": "stream",
     "text": [
      "78.53981633974483\n",
      "24\n"
     ]
    }
   ],
   "source": [
    "circle = Circle(5)\n",
    "print(circle.area())\n",
    "\n",
    "rectangle = Rectangle(4, 6)\n",
    "print(rectangle.area())"
   ]
  },
  {
   "cell_type": "code",
   "execution_count": 21,
   "id": "6df91d13-c349-4a16-8bfd-6df9e8cd55e0",
   "metadata": {},
   "outputs": [
    {
     "name": "stdout",
     "output_type": "stream",
     "text": [
      "Area of the shape is: 28.274333882308138\n",
      "Area of the shape is: 30\n"
     ]
    }
   ],
   "source": [
    "#9. Demonstrate polymorphism by creating a function that can work with different shape objects to calculate and print their areas.\n",
    "#code:\n",
    "def print_area(shape):\n",
    "    print(f\"Area of the shape is: {shape.area()}\")\n",
    "\n",
    "circle = Circle(3)\n",
    "rectangle = Rectangle(5, 6)\n",
    "\n",
    "print_area(circle)\n",
    "print_area(rectangle)\n",
    "\n"
   ]
  },
  {
   "cell_type": "code",
   "execution_count": 23,
   "id": "2fbb7eb2-9408-47ef-82eb-95a1e3b92663",
   "metadata": {},
   "outputs": [],
   "source": [
    "#10. Implement encapsulation in a `BankAccount` class with private attributes for `balance` and `account_number`. Include methods for deposit, withdrawal, and balance inquiry.\n",
    "#Code:\n",
    "class BankAccount:\n",
    "    def __init__(self, account_number, initial_balance):\n",
    "        self.__account_number = account_number\n",
    "        self.__balance = initial_balance\n",
    "\n",
    "    def deposit(self, amount):\n",
    "        self.__balance += amount\n",
    "\n",
    "    def withdraw(self, amount):\n",
    "        if self.__balance >= amount:\n",
    "            self.__balance -= amount\n",
    "        else:\n",
    "            print(\"Insufficient funds\")\n",
    "\n",
    "    def inquire_balance(self):\n",
    "        return self.__balance"
   ]
  },
  {
   "cell_type": "code",
   "execution_count": 25,
   "id": "7ba833b3-d379-42f5-ab6b-1dbd6f94e2c3",
   "metadata": {},
   "outputs": [
    {
     "name": "stdout",
     "output_type": "stream",
     "text": [
      "1000\n",
      "1500\n",
      "1300\n",
      "Insufficient funds\n",
      "1300\n"
     ]
    }
   ],
   "source": [
    "acc = BankAccount(\"123456\", 1000)\n",
    "print(acc.inquire_balance())\n",
    "\n",
    "acc.deposit(500)\n",
    "print(acc.inquire_balance())\n",
    "\n",
    "acc.withdraw(200)\n",
    "print(acc.inquire_balance())\n",
    "\n",
    "acc.withdraw(2000)\n",
    "print(acc.inquire_balance())"
   ]
  },
  {
   "cell_type": "code",
   "execution_count": 27,
   "id": "cd9c5b31-ff36-49d3-bbcf-ead0df5fbc28",
   "metadata": {},
   "outputs": [
    {
     "name": "stdout",
     "output_type": "stream",
     "text": [
      "Point(1, 2)\n",
      "Point(3, 4)\n",
      "Point(4, 6)\n"
     ]
    }
   ],
   "source": [
    "#11. Write a class that overrides the `__str__` and `__add__` magic methods. What will these methods allow you to do?\n",
    "#Code:\n",
    "class Point:\n",
    "    def __init__(self, x, y):\n",
    "        self.x = x\n",
    "        self.y = y\n",
    "\n",
    "    def __str__(self):\n",
    "        return f\"Point({self.x}, {self.y})\"\n",
    "\n",
    "    def __add__(self, other):\n",
    "        new_x = self.x + other.x\n",
    "        new_y = self.y + other.y\n",
    "        return Point(new_x, new_y)\n",
    "\n",
    "point1 = Point(1, 2)\n",
    "point2 = Point(3, 4)\n",
    "\n",
    "print(point1)\n",
    "print(point2)\n",
    "print(point1 + point2)"
   ]
  },
  {
   "cell_type": "code",
   "execution_count": 67,
   "id": "cb02d2f3-ef79-4264-85c0-75e87c763d56",
   "metadata": {},
   "outputs": [
    {
     "name": "stdout",
     "output_type": "stream",
     "text": [
      "Function executed\n",
      "The time for the execution of the code: 2.0004165172576904\n"
     ]
    }
   ],
   "source": [
    "#12. Create a decorator that measures and prints the execution time of a function.\n",
    "#Code:\n",
    "import time\n",
    "\n",
    "def timer_decorator(func):\n",
    "    def wrapper():\n",
    "        start = time.time()\n",
    "        func()\n",
    "        end = time.time()\n",
    "        print(\"The time for the execution of the code:\", end - start)\n",
    "    return wrapper\n",
    "\n",
    "@timer_decorator\n",
    "def my_function():\n",
    "    time.sleep(2)\n",
    "    print(\"Function executed\")\n",
    "\n",
    "my_function()\n"
   ]
  },
  {
   "cell_type": "code",
   "execution_count": 61,
   "id": "911a9866-e1c2-477d-bef7-d2cf052e4700",
   "metadata": {},
   "outputs": [],
   "source": [
    "#13. Explain the concept of the Diamond Problem in multiple inheritance. How does Python resolve it?\n",
    "\n",
    "#In multiple inheritance, the Diamond Problem occurs when a subclass inherits from two classes that have a common ancestor. \n",
    "#This can lead to ambiguity in method resolution, as the subclass may inherit the same method from both parent classes.\n",
    "\n",
    "#Python resolves the Diamond Problem using the C3 Linearization (also known as the C3 superclass linearization) algorithm, \n",
    "#which is a specific algorithm to find a consistent linearization. It maintains the order in which methods should be inherited to ensure a consistent method resolution order (MRO) in the presence of multiple inheritance.\n",
    "\n",
    "\n",
    "\n"
   ]
  },
  {
   "cell_type": "code",
   "execution_count": 69,
   "id": "4be1beed-d3a1-41a1-85cc-745591227d3a",
   "metadata": {},
   "outputs": [],
   "source": [
    "#14. Write a class method that keeps track of the number of instances created from a class.\n",
    "#code:\n",
    "class MyClass:\n",
    "    count = 0\n",
    "\n",
    "    def __init__(self):\n",
    "        MyClass.count += 1\n",
    "\n",
    "    @classmethod\n",
    "    def get_instance_count(cls):\n",
    "        return cls.count"
   ]
  },
  {
   "cell_type": "code",
   "execution_count": 71,
   "id": "a3af9a08-929e-425a-a11d-1551d57d68b6",
   "metadata": {},
   "outputs": [
    {
     "name": "stdout",
     "output_type": "stream",
     "text": [
      "0\n",
      "2\n"
     ]
    }
   ],
   "source": [
    "print(MyClass.get_instance_count())\n",
    "\n",
    "obj1 = MyClass()\n",
    "obj2 = MyClass()\n",
    "\n",
    "print(MyClass.get_instance_count())"
   ]
  },
  {
   "cell_type": "code",
   "execution_count": 73,
   "id": "eb79df18-bae3-4a7e-a28a-6839afdc42f9",
   "metadata": {},
   "outputs": [],
   "source": [
    "#15. Implement a static method in a class that checks if a given year is a leap year.\n",
    "#code:\n",
    "class DateUtility:\n",
    "    @staticmethod\n",
    "    def is_leap_year(year):\n",
    "        if (year % 4 == 0 and year % 100 != 0) or (year % 400 == 0):\n",
    "            return True\n",
    "        else:\n",
    "            return False"
   ]
  },
  {
   "cell_type": "code",
   "execution_count": 75,
   "id": "78e21c36-9bdf-4fe5-ac87-6e7e9534d7cb",
   "metadata": {},
   "outputs": [
    {
     "name": "stdout",
     "output_type": "stream",
     "text": [
      "True\n",
      "False\n"
     ]
    }
   ],
   "source": [
    "print(DateUtility.is_leap_year(2020))\n",
    "print(DateUtility.is_leap_year(2021))"
   ]
  },
  {
   "cell_type": "code",
   "execution_count": null,
   "id": "1cbf14fe-c241-42c0-a289-06b2125f49bb",
   "metadata": {},
   "outputs": [],
   "source": []
  }
 ],
 "metadata": {
  "kernelspec": {
   "display_name": "Python 3 (ipykernel)",
   "language": "python",
   "name": "python3"
  },
  "language_info": {
   "codemirror_mode": {
    "name": "ipython",
    "version": 3
   },
   "file_extension": ".py",
   "mimetype": "text/x-python",
   "name": "python",
   "nbconvert_exporter": "python",
   "pygments_lexer": "ipython3",
   "version": "3.12.7"
  }
 },
 "nbformat": 4,
 "nbformat_minor": 5
}
